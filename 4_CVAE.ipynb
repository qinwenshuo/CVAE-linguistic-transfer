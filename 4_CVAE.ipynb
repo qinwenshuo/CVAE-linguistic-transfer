{
  "nbformat": 4,
  "nbformat_minor": 0,
  "metadata": {
    "colab": {
      "provenance": [],
      "include_colab_link": true
    },
    "kernelspec": {
      "name": "python3",
      "display_name": "Python 3"
    },
    "language_info": {
      "name": "python"
    }
  },
  "cells": [
    {
      "cell_type": "markdown",
      "metadata": {
        "id": "view-in-github",
        "colab_type": "text"
      },
      "source": [
        "<a href=\"https://colab.research.google.com/github/qinwenshuo/CVAE-linguistic-transfer/blob/main/4_CVAE.ipynb\" target=\"_parent\"><img src=\"https://colab.research.google.com/assets/colab-badge.svg\" alt=\"Open In Colab\"/></a>"
      ]
    },
    {
      "cell_type": "markdown",
      "source": [
        "# Setting up"
      ],
      "metadata": {
        "id": "_h33TOO9Wnl2"
      }
    },
    {
      "cell_type": "code",
      "source": [
        "language = 'English'\n",
        "\n",
        "background_dir = f'/content/drive/MyDrive/cvae_project/4_dep_features/{language}/Native'\n",
        "target_dir = f'/content/drive/MyDrive/cvae_project/4_dep_features/{language}/Learner'"
      ],
      "metadata": {
        "id": "0eEBGpXqNj2Z"
      },
      "execution_count": null,
      "outputs": []
    },
    {
      "cell_type": "code",
      "source": [
        "from google.colab import drive\n",
        "drive.mount('/content/drive')\n",
        "import tensorflow as tf\n",
        "import numpy as np\n",
        "import matplotlib.pyplot as plt\n",
        "import os"
      ],
      "metadata": {
        "colab": {
          "base_uri": "https://localhost:8080/"
        },
        "id": "6eIKOquOcrTw",
        "outputId": "c7b6810a-6862-4d3f-bd69-678a85149c4a"
      },
      "execution_count": null,
      "outputs": [
        {
          "output_type": "stream",
          "name": "stdout",
          "text": [
            "Mounted at /content/drive\n"
          ]
        }
      ]
    },
    {
      "cell_type": "code",
      "source": [
        "l1_list = [\n",
        "    'Arabic', 'Tswana', 'Greek', 'Japanese', 'Polish', 'Chinese', 'Persian',\n",
        "    'Swedish', 'Russian', 'Macedonian', 'Korean', 'Czech', 'Aromanian (Vlach)',\n",
        "    'Dutch', 'Spanish', 'Punjabi', 'Norwegian', 'Bulgarian', 'Italian', 'Hungarian',\n",
        "    'Chinese-Mandarin', 'Lithuanian', 'Urdu', 'German', 'Chinese-Cantonese', 'Turkish',\n",
        "    'Serbian', 'French', 'Portuguese', 'Bosnian', 'Finnish', 'Albanian', 'Thai',\n",
        "    'Indonesian', 'Hindi', 'Telugu', 'Vietnamese', 'Suundi', 'Mongol', 'Farsi',\n",
        "    'Zulu', 'Romanian', 'Swahili', 'Hebrew', 'Azerbaijani', 'Russian, Ukrainian',\n",
        "    'Slovak', 'Panjabi', 'Igbo', 'Slovenian', 'Gujarati', 'Tamil', 'Pulaar',\n",
        "    'Maldivian', 'Mongolian', 'Sinhala', 'Welsh', 'Bengali', 'Catalan'\n",
        "]\n"
      ],
      "metadata": {
        "id": "RU8K5M6lrjLR"
      },
      "execution_count": null,
      "outputs": []
    },
    {
      "cell_type": "code",
      "source": [
        "def read_info(file_paths):\n",
        "    dep_2d = []\n",
        "    lang2vec_2d = []\n",
        "    doc2vec_2d = []\n",
        "    l1_1d = []\n",
        "\n",
        "    if not isinstance(file_paths, list):\n",
        "        file_paths = [file_paths]\n",
        "    for file_path in file_paths:\n",
        "        with open(file_path, 'r') as file:\n",
        "            lines = file.readlines()\n",
        "        for line in lines[1:]:\n",
        "            elements = line.strip().split('|')\n",
        "\n",
        "            dep_features = elements[0].split(', ')\n",
        "            l1 = elements[1]\n",
        "            doc2vec = elements[2].split(', ')\n",
        "            lang2vec = elements[3].split(', ')\n",
        "\n",
        "            dep_feature_list = []\n",
        "            for ft in dep_features:\n",
        "                if ft == '':\n",
        "                    ft = 0     ### Q: What to do with empty features?\n",
        "                dep_feature_list.append(np.float64(ft))\n",
        "            dep_2d.append(dep_feature_list)\n",
        "            lang2vec_2d.append(lang2vec)\n",
        "            doc2vec_2d.append(doc2vec)\n",
        "            l1_1d.append(l1)\n",
        "\n",
        "    dep_2d = np.array(dep_2d)\n",
        "    lang2vec_2d = np.array(lang2vec_2d)\n",
        "    doc2vec_2d = np.array(doc2vec_2d)\n",
        "    l1_1d = np.array(l1_1d)\n",
        "    return dep_2d, lang2vec_2d, doc2vec_2d, l1_1d\n",
        "\n",
        "\n",
        "def list_txt_files(directory_path):\n",
        "    file_paths = []\n",
        "    for filename in os.listdir(directory_path):\n",
        "        if filename.endswith(\".txt\"):\n",
        "            file_path = os.path.join(directory_path, filename)\n",
        "            file_paths.append(file_path)\n",
        "    return file_paths\n",
        "\n",
        "\n",
        "background_file_paths = list_txt_files(background_dir)\n",
        "print(background_file_paths)\n",
        "target_file_paths = list_txt_files(target_dir)\n",
        "print(target_file_paths)\n",
        "\n",
        "all_native_data, native_lang2vec, native_doc2vec, native_l1 = read_info(background_file_paths)\n",
        "all_learner_data, learner_lang2vec, learner_doc2vec, learner_l1 = read_info(target_file_paths)"
      ],
      "metadata": {
        "colab": {
          "base_uri": "https://localhost:8080/"
        },
        "id": "JNTzv57oqzjK",
        "outputId": "71127913-7281-48af-f419-4eb7969662f3"
      },
      "execution_count": null,
      "outputs": [
        {
          "output_type": "stream",
          "name": "stdout",
          "text": [
            "['/content/drive/MyDrive/cvae_project/4_dep_features/English/Native/ICNALE_machamp_mbert_1.txt', '/content/drive/MyDrive/cvae_project/4_dep_features/English/Native/ICE-USA_machamp_mbert_1.txt', '/content/drive/MyDrive/cvae_project/4_dep_features/English/Native/OANC_machamp_mbert_1.txt', '/content/drive/MyDrive/cvae_project/4_dep_features/English/Native/BNC_machamp_mbert_1.txt', '/content/drive/MyDrive/cvae_project/4_dep_features/English/Native/ICE-CAN_machamp_mbert_1.txt', '/content/drive/MyDrive/cvae_project/4_dep_features/English/Native/ICE-Ireland_machamp_mbert_1.txt', '/content/drive/MyDrive/cvae_project/4_dep_features/English/Native/LOCNESS_machamp_mbert_1.txt', '/content/drive/MyDrive/cvae_project/4_dep_features/English/Native/Normative_emails_machamp_mbert_1.txt', '/content/drive/MyDrive/cvae_project/4_dep_features/English/Native/PELIC_machamp_mbert_1.txt', '/content/drive/MyDrive/cvae_project/4_dep_features/English/Native/BAWE_machamp_mbert_1.txt']\n",
            "['/content/drive/MyDrive/cvae_project/4_dep_features/English/Learner/ArabCC_machamp_mbert_1.txt', '/content/drive/MyDrive/cvae_project/4_dep_features/English/Learner/WriCLE_machamp_mbert_1.txt', '/content/drive/MyDrive/cvae_project/4_dep_features/English/Learner/ICNALE_machamp_mbert_1.txt', '/content/drive/MyDrive/cvae_project/4_dep_features/English/Learner/ICLE_machamp_mbert_1.txt', '/content/drive/MyDrive/cvae_project/4_dep_features/English/Learner/BAWE_machamp_mbert_1.txt', '/content/drive/MyDrive/cvae_project/4_dep_features/English/Learner/WriCLE_informal_machamp_mbert_1.txt', '/content/drive/MyDrive/cvae_project/4_dep_features/English/Learner/WriCLE-informal_machamp_mbert_1.txt', '/content/drive/MyDrive/cvae_project/4_dep_features/English/Learner/TOEFL_machamp_mbert_1.txt', '/content/drive/MyDrive/cvae_project/4_dep_features/English/Learner/PELIC_machamp_mbert_1.txt', '/content/drive/MyDrive/cvae_project/4_dep_features/English/Learner/CLC_machamp_mbert_1.txt']\n"
          ]
        }
      ]
    },
    {
      "cell_type": "code",
      "source": [
        "native_lang2vec"
      ],
      "metadata": {
        "colab": {
          "base_uri": "https://localhost:8080/"
        },
        "id": "pV3IZ3H-0Mhb",
        "outputId": "fb59fd69-3386-4db4-e55f-4f69ba7bd2f0"
      },
      "execution_count": null,
      "outputs": [
        {
          "output_type": "execute_result",
          "data": {
            "text/plain": [
              "array([['0', '0', '0'],\n",
              "       ['0', '0', '0'],\n",
              "       ['0', '0', '0'],\n",
              "       ...,\n",
              "       ['0', '0', '0'],\n",
              "       ['0', '0', '0'],\n",
              "       ['0', '0', '0']], dtype='<U1')"
            ]
          },
          "metadata": {},
          "execution_count": 4
        }
      ]
    },
    {
      "cell_type": "code",
      "source": [
        "learner_lang2vec"
      ],
      "metadata": {
        "colab": {
          "base_uri": "https://localhost:8080/"
        },
        "id": "y31IZWzr0VGB",
        "outputId": "6f859b71-ac92-4e48-b41b-7055b3213210"
      },
      "execution_count": null,
      "outputs": [
        {
          "output_type": "execute_result",
          "data": {
            "text/plain": [
              "array([['0.6', '0.5687', '0.57'],\n",
              "       ['0.6', '0.5687', '0.57'],\n",
              "       ['0.6', '0.5687', '0.57'],\n",
              "       ...,\n",
              "       ['0.6', '0.3433', '0.7'],\n",
              "       ['0.6', '0.5032', '0.66'],\n",
              "       ['0.6', '0.5032', '0.66']], dtype='<U6')"
            ]
          },
          "metadata": {},
          "execution_count": 5
        }
      ]
    },
    {
      "cell_type": "code",
      "source": [
        "native_l1"
      ],
      "metadata": {
        "colab": {
          "base_uri": "https://localhost:8080/"
        },
        "id": "NjqkHtav0X1e",
        "outputId": "bf59f7b8-57d1-43fc-8bbd-ea2e005440e4"
      },
      "execution_count": null,
      "outputs": [
        {
          "output_type": "execute_result",
          "data": {
            "text/plain": [
              "array(['en', 'en', 'en', ..., 'en', 'en', 'en'], dtype='<U2')"
            ]
          },
          "metadata": {},
          "execution_count": 6
        }
      ]
    },
    {
      "cell_type": "code",
      "source": [
        "learner_l1"
      ],
      "metadata": {
        "colab": {
          "base_uri": "https://localhost:8080/"
        },
        "id": "Br49SaH40acw",
        "outputId": "02232d98-6299-4d37-c138-2b7dfc99c099"
      },
      "execution_count": null,
      "outputs": [
        {
          "output_type": "execute_result",
          "data": {
            "text/plain": [
              "array(['Arabic', 'Arabic', 'Arabic', ..., 'Turkish', 'Japanese',\n",
              "       'Japanese'], dtype='<U17')"
            ]
          },
          "metadata": {},
          "execution_count": 7
        }
      ]
    },
    {
      "cell_type": "code",
      "source": [
        "native_doc2vec.shape, learner_doc2vec.shape"
      ],
      "metadata": {
        "colab": {
          "base_uri": "https://localhost:8080/"
        },
        "id": "VYZ56VDn0ckb",
        "outputId": "350cd1c6-8220-47be-c0a5-a289b0bffbed"
      },
      "execution_count": null,
      "outputs": [
        {
          "output_type": "execute_result",
          "data": {
            "text/plain": [
              "((12192, 300), (51771, 300))"
            ]
          },
          "metadata": {},
          "execution_count": 12
        }
      ]
    },
    {
      "cell_type": "code",
      "source": [
        "all_native_data.shape, all_learner_data.shape"
      ],
      "metadata": {
        "colab": {
          "base_uri": "https://localhost:8080/"
        },
        "id": "AVk7K1Z71mkP",
        "outputId": "1e8691a0-b62c-4ebd-c94e-fd64f1cc9f60"
      },
      "execution_count": null,
      "outputs": [
        {
          "output_type": "execute_result",
          "data": {
            "text/plain": [
              "((12192, 207), (51771, 207))"
            ]
          },
          "metadata": {},
          "execution_count": 14
        }
      ]
    },
    {
      "cell_type": "code",
      "source": [
        "target = all_learner_data.copy()\n",
        "background = all_native_data.copy()"
      ],
      "metadata": {
        "id": "XLnq5JNx8j_m"
      },
      "execution_count": null,
      "outputs": []
    },
    {
      "cell_type": "code",
      "source": [
        "N = min(all_native_data.shape[0], target.shape[0]) - min(background.shape[0], target.shape[0])%100\n",
        "print(\"Number of smples to use:\", N)"
      ],
      "metadata": {
        "colab": {
          "base_uri": "https://localhost:8080/"
        },
        "id": "NPiYvYf8Q1Vx",
        "outputId": "8a7e43e1-bd10-41fa-b56b-9d608b8f4df1"
      },
      "execution_count": null,
      "outputs": [
        {
          "output_type": "stream",
          "name": "stdout",
          "text": [
            "Number of smples to use: 12100\n"
          ]
        }
      ]
    },
    {
      "cell_type": "code",
      "source": [
        "np.random.seed(0)\n",
        "\n",
        "target_random_indices = np.random.choice(target.shape[0], N, replace=False)\n",
        "target = target[target_random_indices, :]\n",
        "learner_lang2vec = learner_lang2vec[target_random_indices, :]\n",
        "learner_doc2vec = learner_doc2vec[target_random_indices, :]\n",
        "\n",
        "native_random_indices = np.random.choice(background.shape[0], N, replace=False)\n",
        "background = background[native_random_indices, :]\n",
        "native_lang2vec = native_lang2vec[native_random_indices, :]\n",
        "native_doc2vec = native_doc2vec[native_random_indices, :]\n",
        "\n",
        "print(target.shape, background.shape)\n",
        "print(learner_lang2vec.shape, native_lang2vec.shape)\n",
        "print(learner_doc2vec.shape, native_doc2vec.shape)"
      ],
      "metadata": {
        "colab": {
          "base_uri": "https://localhost:8080/"
        },
        "id": "Vnumzq-s86tA",
        "outputId": "245df1e3-0931-4ba5-81de-10560685f2f2"
      },
      "execution_count": null,
      "outputs": [
        {
          "output_type": "stream",
          "name": "stdout",
          "text": [
            "(12100, 207) (12100, 207)\n",
            "(12100, 3) (12100, 3)\n",
            "(12100, 300) (12100, 300)\n"
          ]
        }
      ]
    },
    {
      "cell_type": "code",
      "source": [
        "import sys\n",
        "sys.path.append('/content/drive/MyDrive/cvae_project/codes/cvae')\n",
        "from vae_utils import generate_data, standard_vae, contrastive_vae, plot_latent_space, plot_latent_space4d, contrastive_vae_no_bias, plot_sweeps_mnist, plot_clean_digits, plot_clean_digits_only\n",
        "from sklearn.metrics import silhouette_score\n",
        "# NON EXISTING FUNCTIONS\n",
        "# from vae_utils import plot_sweeps_mnist_vae, plot_clean_digits_vae\n",
        "# %matplotlib inline\n",
        "# %load_ext autoreload\n",
        "# %autoreload 2"
      ],
      "metadata": {
        "id": "FF8I8tMwP0Tz"
      },
      "execution_count": null,
      "outputs": []
    },
    {
      "cell_type": "markdown",
      "source": [
        "# VAE Experiment"
      ],
      "metadata": {
        "id": "tMf3wJKT9gXs"
      }
    },
    {
      "cell_type": "code",
      "source": [
        "vae, encoder, decoder = standard_vae(input_dim=207, intermediate_dim=32,\n",
        "                                     latent_dim=4)"
      ],
      "metadata": {
        "id": "gE5wE8bwcnMU"
      },
      "execution_count": null,
      "outputs": []
    },
    {
      "cell_type": "code",
      "source": [
        "history = vae.fit(background, epochs=80, batch_size=24, validation_data=(background, None), verbose=0)\n",
        "plt.plot(history.history['val_loss'])\n",
        "min_loss = min(history.history['val_loss'])\n",
        "plt.title('Min loss:' + str(min_loss))"
      ],
      "metadata": {
        "colab": {
          "base_uri": "https://localhost:8080/",
          "height": 470
        },
        "id": "bvepm7zIwQFo",
        "outputId": "990ec72c-dee2-4c09-a63d-f7cd5d77a7c7"
      },
      "execution_count": null,
      "outputs": [
        {
          "output_type": "execute_result",
          "data": {
            "text/plain": [
              "Text(0.5, 1.0, 'Min loss:11.807001113891602')"
            ]
          },
          "metadata": {},
          "execution_count": 11
        },
        {
          "output_type": "display_data",
          "data": {
            "text/plain": [
              "<Figure size 640x480 with 1 Axes>"
            ],
            "image/png": "[encoded data removed]"
          },
          "metadata": {}
        }
      ]
    },
    {
      "cell_type": "code",
      "source": [
        "vae, encoder, decoder = standard_vae(input_dim=207, intermediate_dim=32,\n",
        "                                     latent_dim=4)"
      ],
      "metadata": {
        "id": "GpHVnXoZ9UXU"
      },
      "execution_count": null,
      "outputs": []
    },
    {
      "cell_type": "code",
      "source": [
        "history = vae.fit(target, epochs=80, batch_size=24, validation_data=(target, None), verbose=0)\n",
        "plt.plot(history.history['val_loss'])\n",
        "min_loss = min(history.history['val_loss'])\n",
        "plt.title('Min loss:' + str(min_loss))"
      ],
      "metadata": {
        "colab": {
          "base_uri": "https://localhost:8080/",
          "height": 470
        },
        "id": "Ca7hVS9m9VDl",
        "outputId": "793b26f7-3e66-4c58-a0d3-71899b839e68"
      },
      "execution_count": null,
      "outputs": [
        {
          "output_type": "execute_result",
          "data": {
            "text/plain": [
              "Text(0.5, 1.0, 'Min loss:12.293835639953613')"
            ]
          },
          "metadata": {},
          "execution_count": 13
        },
        {
          "output_type": "display_data",
          "data": {
            "text/plain": [
              "<Figure size 640x480 with 1 Axes>"
            ],
            "image/png": "[encoded data removed]"
          },
          "metadata": {}
        }
      ]
    },
    {
      "cell_type": "markdown",
      "source": [
        "# cVAE Experiment"
      ],
      "metadata": {
        "id": "nCbPVreQ9lLE"
      }
    },
    {
      "cell_type": "code",
      "source": [
        "## You can adjust these hyperparameters\n",
        "epoches = 100\n",
        "batch_size = 100 ## fixed do not change!\n",
        "intermediate_dim = 64\n",
        "latent_dim = 4"
      ],
      "metadata": {
        "id": "_efJIqZrU8id"
      },
      "execution_count": null,
      "outputs": []
    },
    {
      "cell_type": "code",
      "source": [
        "# In the author's code(util_cvae.py), the s_encoder encodes background information while\n",
        "# the z_encoder encodes salient information. This is clearly the opposite of the\n",
        "# definition they gave in their paper. To minimize confusion, I have switched the\n",
        "# order of the two encoders here.\n",
        "# To use what the author originally wanted to use:\n",
        "# cvae, cvae_fg, z_encoder, s_encoder, cvae_decoder = contrastive_vae(\n",
        "#    input_dim=266, intermediate_dim=intermediate_dim, latent_dim=latent_dim, disentangle=False, gamma=1)\n",
        "# and remeber to change the following code\n",
        "\n",
        "cvae, cvae_fg, s_encoder, z_encoder, cvae_decoder = contrastive_vae(\n",
        "    input_dim=207, intermediate_dim=intermediate_dim, latent_dim=latent_dim, disentangle=False, gamma=1)\n"
      ],
      "metadata": {
        "id": "Xh_k1e8-wnvj"
      },
      "execution_count": null,
      "outputs": []
    },
    {
      "cell_type": "code",
      "source": [
        "cvae.fit([target, background], epochs=2, batch_size=batch_size, validation_data=([target, background], None), verbose=2)\n",
        "history = cvae.fit([target, background], epochs=epoches, batch_size=batch_size, validation_data=([target, background], None), verbose=2)\n",
        "\n",
        "plt.figure()\n",
        "plt.plot(history.history['val_loss'])\n",
        "min_loss = min(history.history['val_loss'])\n",
        "plt.title('Min loss:' + str(min_loss))"
      ],
      "metadata": {
        "colab": {
          "base_uri": "https://localhost:8080/",
          "height": 1000
        },
        "id": "5F5WKwKNxdO3",
        "outputId": "4696c4b8-4980-44bd-a1c0-b77603a6e5f9"
      },
      "execution_count": null,
      "outputs": [
        {
          "output_type": "stream",
          "name": "stdout",
          "text": [
            "Epoch 1/2\n",
            "121/121 - 6s - loss: 898.9156 - val_loss: 280.7365 - 6s/epoch - 50ms/step\n",
            "Epoch 2/2\n",
            "121/121 - 1s - loss: 189.8467 - val_loss: 133.9831 - 798ms/epoch - 7ms/step\n",
            "Epoch 1/100\n",
            "121/121 - 1s - loss: 109.6843 - val_loss: 87.0626 - 868ms/epoch - 7ms/step\n",
            "Epoch 2/100\n",
            "121/121 - 1s - loss: 74.2702 - val_loss: 64.5564 - 1s/epoch - 12ms/step\n",
            "Epoch 3/100\n",
            "121/121 - 1s - loss: 59.5980 - val_loss: 55.0220 - 1s/epoch - 12ms/step\n",
            "Epoch 4/100\n",
            "121/121 - 1s - loss: 53.0242 - val_loss: 50.1150 - 1s/epoch - 11ms/step\n",
            "Epoch 5/100\n",
            "121/121 - 1s - loss: 48.7330 - val_loss: 46.7248 - 787ms/epoch - 7ms/step\n",
            "Epoch 6/100\n",
            "121/121 - 1s - loss: 45.3575 - val_loss: 46.3186 - 774ms/epoch - 6ms/step\n",
            "Epoch 7/100\n",
            "121/121 - 1s - loss: 42.8288 - val_loss: 40.9598 - 805ms/epoch - 7ms/step\n",
            "Epoch 8/100\n",
            "121/121 - 1s - loss: 40.1363 - val_loss: 39.3433 - 751ms/epoch - 6ms/step\n",
            "Epoch 9/100\n",
            "121/121 - 1s - loss: 38.6029 - val_loss: 37.7831 - 797ms/epoch - 7ms/step\n",
            "Epoch 10/100\n",
            "121/121 - 1s - loss: 37.6103 - val_loss: 38.2978 - 766ms/epoch - 6ms/step\n",
            "Epoch 11/100\n",
            "121/121 - 1s - loss: 36.5571 - val_loss: 36.0900 - 743ms/epoch - 6ms/step\n",
            "Epoch 12/100\n",
            "121/121 - 1s - loss: 35.8110 - val_loss: 35.0927 - 786ms/epoch - 6ms/step\n",
            "Epoch 13/100\n",
            "121/121 - 1s - loss: 34.9372 - val_loss: 34.7809 - 802ms/epoch - 7ms/step\n",
            "Epoch 14/100\n",
            "121/121 - 1s - loss: 34.4557 - val_loss: 34.0251 - 791ms/epoch - 7ms/step\n",
            "Epoch 15/100\n",
            "121/121 - 1s - loss: 33.9318 - val_loss: 34.1524 - 763ms/epoch - 6ms/step\n",
            "Epoch 16/100\n",
            "121/121 - 1s - loss: 33.5375 - val_loss: 33.1444 - 707ms/epoch - 6ms/step\n",
            "Epoch 17/100\n",
            "121/121 - 2s - loss: 33.1954 - val_loss: 33.4701 - 2s/epoch - 20ms/step\n",
            "Epoch 18/100\n",
            "121/121 - 1s - loss: 32.7778 - val_loss: 34.1745 - 1s/epoch - 9ms/step\n",
            "Epoch 19/100\n",
            "121/121 - 1s - loss: 32.4000 - val_loss: 32.2075 - 1s/epoch - 11ms/step\n",
            "Epoch 20/100\n",
            "121/121 - 1s - loss: 31.9651 - val_loss: 31.9243 - 688ms/epoch - 6ms/step\n",
            "Epoch 21/100\n",
            "121/121 - 1s - loss: 31.6557 - val_loss: 31.4840 - 724ms/epoch - 6ms/step\n",
            "Epoch 22/100\n",
            "121/121 - 1s - loss: 31.5428 - val_loss: 30.9876 - 791ms/epoch - 7ms/step\n",
            "Epoch 23/100\n",
            "121/121 - 1s - loss: 31.1312 - val_loss: 31.0454 - 793ms/epoch - 7ms/step\n",
            "Epoch 24/100\n",
            "121/121 - 1s - loss: 30.9681 - val_loss: 30.7886 - 827ms/epoch - 7ms/step\n",
            "Epoch 25/100\n",
            "121/121 - 1s - loss: 30.7016 - val_loss: 30.4519 - 740ms/epoch - 6ms/step\n",
            "Epoch 26/100\n",
            "121/121 - 1s - loss: 30.4093 - val_loss: 30.1960 - 1s/epoch - 9ms/step\n",
            "Epoch 27/100\n",
            "121/121 - 1s - loss: 30.4898 - val_loss: 31.0909 - 979ms/epoch - 8ms/step\n",
            "Epoch 28/100\n",
            "121/121 - 1s - loss: 30.1178 - val_loss: 30.5320 - 1s/epoch - 9ms/step\n",
            "Epoch 29/100\n",
            "121/121 - 1s - loss: 30.0095 - val_loss: 30.0560 - 803ms/epoch - 7ms/step\n",
            "Epoch 30/100\n",
            "121/121 - 1s - loss: 29.9449 - val_loss: 29.7425 - 779ms/epoch - 6ms/step\n",
            "Epoch 31/100\n",
            "121/121 - 1s - loss: 29.7334 - val_loss: 29.5459 - 840ms/epoch - 7ms/step\n",
            "Epoch 32/100\n",
            "121/121 - 1s - loss: 29.5833 - val_loss: 29.4140 - 1s/epoch - 9ms/step\n",
            "Epoch 33/100\n",
            "121/121 - 1s - loss: 29.3742 - val_loss: 29.1928 - 1s/epoch - 12ms/step\n",
            "Epoch 34/100\n",
            "121/121 - 1s - loss: 29.3842 - val_loss: 29.2379 - 1s/epoch - 9ms/step\n",
            "Epoch 35/100\n",
            "121/121 - 1s - loss: 29.1654 - val_loss: 28.9056 - 833ms/epoch - 7ms/step\n",
            "Epoch 36/100\n",
            "121/121 - 1s - loss: 28.9397 - val_loss: 28.7749 - 791ms/epoch - 7ms/step\n",
            "Epoch 37/100\n",
            "121/121 - 1s - loss: 28.8536 - val_loss: 28.7594 - 790ms/epoch - 7ms/step\n",
            "Epoch 38/100\n",
            "121/121 - 1s - loss: 28.9203 - val_loss: 28.5487 - 769ms/epoch - 6ms/step\n",
            "Epoch 39/100\n",
            "121/121 - 1s - loss: 28.6631 - val_loss: 28.9296 - 692ms/epoch - 6ms/step\n",
            "Epoch 40/100\n",
            "121/121 - 1s - loss: 28.6506 - val_loss: 28.3557 - 756ms/epoch - 6ms/step\n",
            "Epoch 41/100\n",
            "121/121 - 1s - loss: 28.6028 - val_loss: 28.4682 - 802ms/epoch - 7ms/step\n",
            "Epoch 42/100\n",
            "121/121 - 1s - loss: 28.3226 - val_loss: 28.7854 - 732ms/epoch - 6ms/step\n",
            "Epoch 43/100\n",
            "121/121 - 1s - loss: 28.2107 - val_loss: 28.0227 - 796ms/epoch - 7ms/step\n",
            "Epoch 44/100\n",
            "121/121 - 1s - loss: 28.1505 - val_loss: 27.9263 - 769ms/epoch - 6ms/step\n",
            "Epoch 45/100\n",
            "121/121 - 1s - loss: 27.9796 - val_loss: 27.9027 - 704ms/epoch - 6ms/step\n",
            "Epoch 46/100\n",
            "121/121 - 1s - loss: 27.9956 - val_loss: 27.7565 - 745ms/epoch - 6ms/step\n",
            "Epoch 47/100\n",
            "121/121 - 1s - loss: 27.7549 - val_loss: 27.5381 - 765ms/epoch - 6ms/step\n",
            "Epoch 48/100\n",
            "121/121 - 1s - loss: 27.9344 - val_loss: 28.2095 - 1s/epoch - 9ms/step\n",
            "Epoch 49/100\n",
            "121/121 - 1s - loss: 27.7517 - val_loss: 28.0244 - 1s/epoch - 12ms/step\n",
            "Epoch 50/100\n",
            "121/121 - 1s - loss: 27.5686 - val_loss: 27.2867 - 1s/epoch - 9ms/step\n",
            "Epoch 51/100\n",
            "121/121 - 1s - loss: 27.4520 - val_loss: 27.2422 - 1s/epoch - 9ms/step\n",
            "Epoch 52/100\n",
            "121/121 - 1s - loss: 27.3205 - val_loss: 27.3574 - 750ms/epoch - 6ms/step\n",
            "Epoch 53/100\n",
            "121/121 - 1s - loss: 27.2485 - val_loss: 27.0880 - 718ms/epoch - 6ms/step\n",
            "Epoch 54/100\n",
            "121/121 - 1s - loss: 27.2723 - val_loss: 27.3610 - 716ms/epoch - 6ms/step\n",
            "Epoch 55/100\n",
            "121/121 - 1s - loss: 27.3019 - val_loss: 27.1678 - 809ms/epoch - 7ms/step\n",
            "Epoch 56/100\n",
            "121/121 - 1s - loss: 27.2803 - val_loss: 26.9176 - 818ms/epoch - 7ms/step\n",
            "Epoch 57/100\n",
            "121/121 - 1s - loss: 26.9462 - val_loss: 26.9905 - 801ms/epoch - 7ms/step\n",
            "Epoch 58/100\n",
            "121/121 - 1s - loss: 26.9881 - val_loss: 27.1655 - 814ms/epoch - 7ms/step\n",
            "Epoch 59/100\n",
            "121/121 - 1s - loss: 26.8962 - val_loss: 26.6164 - 745ms/epoch - 6ms/step\n",
            "Epoch 60/100\n",
            "121/121 - 1s - loss: 26.9551 - val_loss: 26.6668 - 803ms/epoch - 7ms/step\n",
            "Epoch 61/100\n",
            "121/121 - 1s - loss: 26.9799 - val_loss: 26.5833 - 677ms/epoch - 6ms/step\n",
            "Epoch 62/100\n",
            "121/121 - 1s - loss: 26.7525 - val_loss: 26.5982 - 807ms/epoch - 7ms/step\n",
            "Epoch 63/100\n",
            "121/121 - 1s - loss: 26.5815 - val_loss: 26.3912 - 798ms/epoch - 7ms/step\n",
            "Epoch 64/100\n",
            "121/121 - 1s - loss: 26.5086 - val_loss: 26.2992 - 873ms/epoch - 7ms/step\n",
            "Epoch 65/100\n",
            "121/121 - 1s - loss: 26.5073 - val_loss: 26.9934 - 1s/epoch - 9ms/step\n",
            "Epoch 66/100\n",
            "121/121 - 1s - loss: 26.5399 - val_loss: 27.5123 - 1s/epoch - 9ms/step\n",
            "Epoch 67/100\n",
            "121/121 - 1s - loss: 26.7104 - val_loss: 26.4342 - 1s/epoch - 9ms/step\n",
            "Epoch 68/100\n",
            "121/121 - 1s - loss: 26.3292 - val_loss: 26.2703 - 935ms/epoch - 8ms/step\n",
            "Epoch 69/100\n",
            "121/121 - 1s - loss: 26.2433 - val_loss: 26.0964 - 701ms/epoch - 6ms/step\n",
            "Epoch 70/100\n",
            "121/121 - 1s - loss: 26.2349 - val_loss: 26.1334 - 686ms/epoch - 6ms/step\n",
            "Epoch 71/100\n",
            "121/121 - 1s - loss: 26.2104 - val_loss: 26.0988 - 768ms/epoch - 6ms/step\n",
            "Epoch 72/100\n",
            "121/121 - 1s - loss: 26.1466 - val_loss: 26.2018 - 733ms/epoch - 6ms/step\n",
            "Epoch 73/100\n",
            "121/121 - 1s - loss: 26.1370 - val_loss: 26.1640 - 745ms/epoch - 6ms/step\n",
            "Epoch 74/100\n",
            "121/121 - 1s - loss: 26.0356 - val_loss: 26.1870 - 780ms/epoch - 6ms/step\n",
            "Epoch 75/100\n",
            "121/121 - 1s - loss: 26.1897 - val_loss: 25.9111 - 791ms/epoch - 7ms/step\n",
            "Epoch 76/100\n",
            "121/121 - 1s - loss: 26.0794 - val_loss: 25.9133 - 821ms/epoch - 7ms/step\n",
            "Epoch 77/100\n",
            "121/121 - 1s - loss: 26.2067 - val_loss: 25.9921 - 733ms/epoch - 6ms/step\n",
            "Epoch 78/100\n",
            "121/121 - 1s - loss: 26.0303 - val_loss: 26.2122 - 734ms/epoch - 6ms/step\n",
            "Epoch 79/100\n",
            "121/121 - 1s - loss: 25.9319 - val_loss: 25.7674 - 702ms/epoch - 6ms/step\n",
            "Epoch 80/100\n",
            "121/121 - 1s - loss: 25.8766 - val_loss: 25.8289 - 728ms/epoch - 6ms/step\n",
            "Epoch 81/100\n",
            "121/121 - 1s - loss: 25.7933 - val_loss: 25.6874 - 741ms/epoch - 6ms/step\n",
            "Epoch 82/100\n",
            "121/121 - 1s - loss: 25.8503 - val_loss: 26.0935 - 1s/epoch - 9ms/step\n",
            "Epoch 83/100\n",
            "121/121 - 1s - loss: 25.7513 - val_loss: 25.7357 - 1s/epoch - 12ms/step\n",
            "Epoch 84/100\n",
            "121/121 - 1s - loss: 25.9600 - val_loss: 25.6522 - 1s/epoch - 11ms/step\n",
            "Epoch 85/100\n",
            "121/121 - 1s - loss: 25.9896 - val_loss: 25.7877 - 753ms/epoch - 6ms/step\n",
            "Epoch 86/100\n",
            "121/121 - 1s - loss: 25.7327 - val_loss: 25.4444 - 748ms/epoch - 6ms/step\n",
            "Epoch 87/100\n",
            "121/121 - 1s - loss: 25.5899 - val_loss: 25.4897 - 753ms/epoch - 6ms/step\n",
            "Epoch 88/100\n",
            "121/121 - 1s - loss: 25.5878 - val_loss: 25.3921 - 817ms/epoch - 7ms/step\n",
            "Epoch 89/100\n",
            "121/121 - 1s - loss: 25.5409 - val_loss: 25.9273 - 788ms/epoch - 7ms/step\n",
            "Epoch 90/100\n",
            "121/121 - 1s - loss: 25.6226 - val_loss: 25.4764 - 806ms/epoch - 7ms/step\n",
            "Epoch 91/100\n",
            "121/121 - 1s - loss: 25.5613 - val_loss: 25.3148 - 719ms/epoch - 6ms/step\n",
            "Epoch 92/100\n",
            "121/121 - 1s - loss: 25.4827 - val_loss: 25.2431 - 817ms/epoch - 7ms/step\n",
            "Epoch 93/100\n",
            "121/121 - 1s - loss: 25.4800 - val_loss: 25.3418 - 790ms/epoch - 7ms/step\n",
            "Epoch 94/100\n",
            "121/121 - 1s - loss: 25.3830 - val_loss: 25.3530 - 812ms/epoch - 7ms/step\n",
            "Epoch 95/100\n",
            "121/121 - 1s - loss: 25.4267 - val_loss: 25.3609 - 820ms/epoch - 7ms/step\n",
            "Epoch 96/100\n",
            "121/121 - 1s - loss: 25.4462 - val_loss: 25.2853 - 802ms/epoch - 7ms/step\n",
            "Epoch 97/100\n",
            "121/121 - 1s - loss: 25.3979 - val_loss: 25.5099 - 809ms/epoch - 7ms/step\n",
            "Epoch 98/100\n",
            "121/121 - 3s - loss: 25.3575 - val_loss: 25.2163 - 3s/epoch - 23ms/step\n",
            "Epoch 99/100\n",
            "121/121 - 2s - loss: 25.4375 - val_loss: 25.2642 - 2s/epoch - 19ms/step\n",
            "Epoch 100/100\n",
            "121/121 - 1s - loss: 25.3663 - val_loss: 25.2523 - 863ms/epoch - 7ms/step\n"
          ]
        },
        {
          "output_type": "execute_result",
          "data": {
            "text/plain": [
              "Text(0.5, 1.0, 'Min loss:25.216285705566406')"
            ]
          },
          "metadata": {},
          "execution_count": 21
        },
        {
          "output_type": "display_data",
          "data": {
            "text/plain": [
              "<Figure size 640x480 with 1 Axes>"
            ],
            "image/png": "[encoded data removed]"
          },
          "metadata": {}
        }
      ]
    },
    {
      "cell_type": "code",
      "source": [
        "model_output_dir = f'/content/drive/MyDrive/cvae_project/trained_cvae_model/{language}_E{epoches}_B{batch_size}_ID{intermediate_dim}_LD{latent_dim}.h5'\n",
        "z_encoder_output_dir = f'/content/drive/MyDrive/cvae_project/trained_cvae_model/{language}_E{epoches}_B{batch_size}_ID{intermediate_dim}_LD{latent_dim}_z_encoder.h5'\n",
        "s_encoder_output_dir = f'/content/drive/MyDrive/cvae_project/trained_cvae_model/{language}_E{epoches}_B{batch_size}_ID{intermediate_dim}_LD{latent_dim}_s_encoder.h5'\n",
        "print(model_output_dir)\n",
        "print(z_encoder_output_dir)\n",
        "print(s_encoder_output_dir)\n"
      ],
      "metadata": {
        "id": "P-8SW0-gmf8L",
        "colab": {
          "base_uri": "https://localhost:8080/"
        },
        "outputId": "0bf300d1-7833-4afb-ee3d-bee925295ce6"
      },
      "execution_count": null,
      "outputs": [
        {
          "output_type": "stream",
          "name": "stdout",
          "text": [
            "/content/drive/MyDrive/cvae_project/trained_cvae_model/English_E100_B100_ID64_LD4.h5\n",
            "/content/drive/MyDrive/cvae_project/trained_cvae_model/English_E100_B100_ID64_LD4_z_encoder.h5\n",
            "/content/drive/MyDrive/cvae_project/trained_cvae_model/English_E100_B100_ID64_LD4_s_encoder.h5\n"
          ]
        }
      ]
    },
    {
      "cell_type": "code",
      "source": [
        "cvae.save(model_output_dir)\n",
        "s_encoder.save(s_encoder_output_dir)\n",
        "z_encoder.save(z_encoder_output_dir)"
      ],
      "metadata": {
        "colab": {
          "base_uri": "https://localhost:8080/"
        },
        "id": "ZLtp8wUxVqHr",
        "outputId": "e9077cfb-d4ce-4cd3-b31e-aab35b0995e9"
      },
      "execution_count": null,
      "outputs": [
        {
          "output_type": "stream",
          "name": "stderr",
          "text": [
            "WARNING:tensorflow:Compiled the loaded model, but the compiled metrics have yet to be built. `model.compile_metrics` will be empty until you train or evaluate the model.\n",
            "WARNING:tensorflow:Compiled the loaded model, but the compiled metrics have yet to be built. `model.compile_metrics` will be empty until you train or evaluate the model.\n"
          ]
        }
      ]
    },
    {
      "cell_type": "code",
      "source": [
        "from tensorflow import keras\n",
        "## Remember to change the loading directory!\n",
        "s_encoder = keras.models.load_model(s_encoder_output_dir)\n",
        "z_encoder = keras.models.load_model(z_encoder_output_dir)\n",
        "\n",
        "\n",
        "tg_z = z_encoder.predict(target)[2]       # learner background features\n",
        "tg_s = s_encoder.predict(target)[2]       # learner salient features\n",
        "bg_z = z_encoder.predict(background)[2]   # native background features\n",
        "\n",
        "print(tg_z.shape, tg_s.shape, bg_z.shape)"
      ],
      "metadata": {
        "colab": {
          "base_uri": "https://localhost:8080/"
        },
        "id": "I3WMMRVuA-fs",
        "outputId": "98fa39c7-b028-4238-d892-4e3e29ca57cb"
      },
      "execution_count": null,
      "outputs": [
        {
          "output_type": "stream",
          "name": "stderr",
          "text": [
            "WARNING:tensorflow:No training configuration found in the save file, so the model was *not* compiled. Compile it manually.\n",
            "WARNING:tensorflow:No training configuration found in the save file, so the model was *not* compiled. Compile it manually.\n"
          ]
        },
        {
          "output_type": "stream",
          "name": "stdout",
          "text": [
            "379/379 [==============================] - 1s 2ms/step\n",
            "379/379 [==============================] - 1s 2ms/step\n",
            "379/379 [==============================] - 1s 2ms/step\n",
            "(12100, 4) (12100, 4) (12100, 4)\n"
          ]
        }
      ]
    },
    {
      "cell_type": "code",
      "source": [
        "def zeros_like(x):\n",
        "    return tf.zeros_like(x)\n",
        "\n",
        "zeros = tf.keras.layers.Lambda(zeros_like)(tg_z)\n",
        "cvae_learner_features = tf.concat([tg_s, tg_z], axis=-1)    # features for reconstructing learner corpora\n",
        "cvae_native_features = tf.concat([zeros, bg_z], axis=-1)    # features for reconstructing native corpora\n",
        "\n",
        "print(cvae_learner_features.shape)\n",
        "print(cvae_native_features.shape)"
      ],
      "metadata": {
        "colab": {
          "base_uri": "https://localhost:8080/"
        },
        "id": "YjuGPQzQWkxK",
        "outputId": "23101a02-a49d-44cc-bdee-aa4a68b9c240"
      },
      "execution_count": null,
      "outputs": [
        {
          "output_type": "stream",
          "name": "stdout",
          "text": [
            "(12100, 8)\n",
            "(12100, 8)\n"
          ]
        }
      ]
    },
    {
      "cell_type": "code",
      "source": [
        "prediction_output_dir = f'/content/drive/MyDrive/cvae_project/5_cvae_predictions/{language}_E{epoches}_B{batch_size}_ID{intermediate_dim}_LD{latent_dim}/'\n",
        "if not os.path.exists(prediction_output_dir):\n",
        "    os.makedirs(prediction_output_dir)\n",
        "with open(prediction_output_dir + 'cvae_learner_features.npy', 'wb') as f:\n",
        "    np.save(f, cvae_learner_features)\n",
        "with open(prediction_output_dir + 'cvae_native_features.npy', 'wb') as f:\n",
        "    np.save(f, cvae_native_features)\n",
        "with open(prediction_output_dir + 'l1_l2_linguistic_distance.npy', 'wb') as f:\n",
        "    np.save(f, learner_lang2vec)\n",
        "with open(prediction_output_dir + 'learner_topic_embedding.npy', 'wb') as f:\n",
        "    np.save(f, learner_doc2vec)\n",
        "with open(prediction_output_dir + 'native_topic_embedding.npy', 'wb') as f:\n",
        "    np.save(f, native_doc2vec)\n",
        "with open(prediction_output_dir + 'tg_s.npy', 'wb') as f:\n",
        "    np.save(f, tg_s)\n",
        "with open(prediction_output_dir + 'tg_z.npy', 'wb') as f:\n",
        "    np.save(f, tg_z)\n",
        "with open(prediction_output_dir + 'bg_z.npy', 'wb') as f:\n",
        "    np.save(f, bg_z)\n",
        "\n",
        "\n"
      ],
      "metadata": {
        "id": "Z3ug2K6f_IYH"
      },
      "execution_count": null,
      "outputs": []
    },
    {
      "cell_type": "code",
      "source": [],
      "metadata": {
        "id": "wLPGZBLxETPB"
      },
      "execution_count": null,
      "outputs": []
    }
  ]
}